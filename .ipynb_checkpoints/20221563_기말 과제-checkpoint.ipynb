{
 "cells": [
  {
   "cell_type": "markdown",
   "id": "0c48be18-9bbd-4383-bad3-8b80ef62b7e6",
   "metadata": {},
   "source": [
    "객체지향프로그래밍, file IO, 예외처리, 실행시간, 정규식, matplotlib, numpy, pandas등 library를 이용하여 구현\n",
    "\n",
    "투수와 타자 정보 데이터 작성\n",
    "\n",
    "[파일 내 형식]\n",
    "- 투수 (한 줄 당)\n",
    "    이름 구단 {구종 : 구사율} ERA AVG BB WHIP\n",
    "    구단 #(선수) // 이 밑으로는 선수 인원수에 맞게 줄이 쭉 있는데 각 줄에 선수에 대한 정보\n",
    "    \n",
    "- 타자\n",
    "\n",
    "  \n",
    "\n",
    "입력 :\n",
    "1. 투수의 이름,구단 입력 -> '이닝 시작' 출력 후 투수의 구종별 구사율 출력\n",
    "2. 타자의 정보 입력 -> 타자의 타율, 출루율, 변화구/직구 선택률 등 정보 출력 -> 투수의 첫 구종 예상\n",
    "3. trading start 입력 시 -> '1. 이적\\n2. 방출' 출력 후 선택 요구\n",
    "       1: 이적할 선수의 포지션, 이름, 등번호, 연봉 입력 요구 -> 이름은 다른데 등 번호가 겹칠 경우 '이미 등록된 번호입니다.' -> 이름과 등번호가 겹칠 경우 '이미 등록된 선수입니다.' 출력 ->'등록을 완료했습니다.' 출력\n",
    "       2: 방출할 선수의 포지션, 이름, 등번호 -> 있다면 '정말 방출하시겠습니까?' 출력 후 y 입력 시 방출"
   ]
  },
  {
   "cell_type": "code",
   "execution_count": null,
   "id": "bfe604db-b9e4-4163-b5ec-403654715faf",
   "metadata": {},
   "outputs": [],
   "source": [
    "from tabulate import tabulate\n",
    "\n",
    "\n",
    "with oepn('pitcher.txt', 'rt', encoding='utf-8') as f:\n",
    "    origin_pit = f.read()\n",
    "pitcher_data = origin_pit.split('\\n')\n",
    "with open('hitter.txt', 'rt', encoding='utf-8') as f:\n",
    "    origin_hit = f.read()    \n",
    "hitter_data = origin_hit.split('\\n')\n",
    "\n",
    "\n",
    "#trading 시스템 구현 - 따로 함수를 빼서 하는게 맞나? 아니면 class 내부 함수로 구현하는게 맞나 고민\n",
    "class Trade:\n",
    "    def __init__(self):\n",
    "        position = input('트레이딩할 선수의 포지션 (투수/야수): ').strip()\n",
    "        self.former_name_team = input('트레이딩할 선수의 현재 이름과 구단을 입력하세요 (예: 홍길동 두산): ').split()\n",
    "        self.new_team = input('새로운 구단을 입력하세요: ')\n",
    "\n",
    "        #투수/야수 입력에 따라 해당하는 함수로 이동하는 코드\n",
    "        self.func_list = {\n",
    "            '투수': self.pitcher_trade,\n",
    "            '야수': self.hitter_trade\n",
    "        }\n",
    "\n",
    "        action = self.func_list[position]\n",
    "        action()\n",
    "\n",
    "    def pitcher_trade(self):\n",
    "        target_pitcher = []\n",
    "        for line in pitcher_data:\n",
    "            if line[:2] == self.former_name_team:\n",
    "                \n",
    "        \n",
    "    def hitter_trade(self):\n",
    "    \n",
    "\n",
    "    \n",
    "\n",
    "class Pitcher(Trade):\n",
    "    def __init__(self, team, name):\n",
    "        self._name = name\n",
    "        self._team = team\n",
    "    \n",
    "    def show_pitcher(self):\n",
    "        print('이닝 시작\\n[투수 정보]')\n",
    "\n",
    "        #읽은 pitData 리스트 내용 중에 해당하는 내용을 찾으면 targetData에 저장\n",
    "        target_data = []\n",
    "        for i in pitcher_data:\n",
    "            if self._name + ' ' + self._team in i:\n",
    "                target_data = i\n",
    "                break\n",
    "\n",
    "        #해당 팀에 입력받은 이름의 투수가 없는 경우를 검출\n",
    "        if target_data == []:\n",
    "            print('존재하지 않는 투수 정보입니다.')\n",
    "            return\n",
    "            \n",
    "            \n",
    "        #구종별 구사율 출력\n",
    "        pitching_info = target_data.split()[2]\n",
    "        table = list(pitching_info.items())\n",
    "        print(tabulate(table, headers=['구종', '사용 비율'], tablefmt='grid'))\n",
    "        print()\n",
    "\n",
    "\n",
    "\n",
    "\n",
    "class Hitter(Trade):\n",
    "    def __init__(self, name, team):\n",
    "        self._name = name\n",
    "        self._team = team\n",
    "        \n",
    "    def input_hitter(self):\n",
    "        print('타자 정보를 입력하세요.')\n",
    "        self._name = input('타자 이름: ')\n",
    "        self._team = input('구단: ')\n",
    "\n",
    "    def show_hitter(self):\n",
    "        print('[타자 정보]')\n",
    "\n",
    "        target_data = []\n",
    "        for i in hitter_data:\n",
    "            if self._name + ' ' + self._team in i:\n",
    "                target_data = i\n",
    "                break\n",
    "\n",
    "        #입력받은 구단 이름이 잘못됐을 경우\n",
    "        \n",
    "        \n",
    "        #해당 팀에 입력받은 이름의 타자가 없는 경우를 검출\n",
    "        if target_data == []:\n",
    "            \n",
    "\n",
    "    \n",
    "\n",
    "    \n",
    "\n",
    "if __name__ == \"__main__\":\n",
    "    team = input('투수의 구단을 입력하세요: ')\n",
    "    name = input('투수의 이름을 입력하세요: ')\n",
    "    inning_pitcher = Pitcher(team, name)\n",
    "    inning_pitcher.show_pitcher()\n",
    "\n",
    "    while(input('타자 정보를 입력하시겠습니까? (y/n) : ') == 'y'):\n",
    "        hitter = input('타자 이름: ')\n",
    "        hitterTeam = input('구단 이름: ')\n",
    "        showHitter(hitter, hitterTeam)\n"
   ]
  },
  {
   "cell_type": "code",
   "execution_count": 6,
   "id": "e479cc9f-3da2-49c7-889f-0c4bdd411bc9",
   "metadata": {},
   "outputs": [
    {
     "data": {
      "text/plain": [
       "['김택연 63 3.6']"
      ]
     },
     "execution_count": 6,
     "metadata": {},
     "output_type": "execute_result"
    }
   ],
   "source": [
    "fp = open('test.txt', 'wt', encoding='utf-8')\n",
    "fp.write('김택연 63 3.6')\n",
    "fp.close()\n",
    "\n",
    "fp = open('test.txt', 'rt', encoding='utf-8')\n",
    "\n",
    "\n",
    "data = fp.readlines()\n",
    "fp.close()\n",
    "data"
   ]
  },
  {
   "cell_type": "code",
   "execution_count": 7,
   "id": "76786d7e-9ce0-40e5-816c-79555e1c6da1",
   "metadata": {},
   "outputs": [
    {
     "name": "stdin",
     "output_type": "stream",
     "text": [
      "input:  y\n"
     ]
    },
    {
     "name": "stdout",
     "output_type": "stream",
     "text": [
      "1\n"
     ]
    },
    {
     "name": "stdin",
     "output_type": "stream",
     "text": [
      "input:  u\n"
     ]
    }
   ],
   "source": [
    "def test:\n"
   ]
  },
  {
   "cell_type": "code",
   "execution_count": 5,
   "id": "4cd2b0c6-481f-4f59-a9bc-c918fde66607",
   "metadata": {},
   "outputs": [
    {
     "ename": "AttributeError",
     "evalue": "'list' object has no attribute 'split'",
     "output_type": "error",
     "traceback": [
      "\u001b[0;31m---------------------------------------------------------------------------\u001b[0m",
      "\u001b[0;31mAttributeError\u001b[0m                            Traceback (most recent call last)",
      "Cell \u001b[0;32mIn[5], line 6\u001b[0m\n\u001b[1;32m      4\u001b[0m fp\u001b[38;5;241m.\u001b[39mclose()\n\u001b[1;32m      5\u001b[0m fp \u001b[38;5;241m=\u001b[39m \u001b[38;5;28mopen\u001b[39m(\u001b[38;5;124m'\u001b[39m\u001b[38;5;124mtest.txt\u001b[39m\u001b[38;5;124m'\u001b[39m, \u001b[38;5;124m'\u001b[39m\u001b[38;5;124mrt\u001b[39m\u001b[38;5;124m'\u001b[39m, encoding\u001b[38;5;241m=\u001b[39m\u001b[38;5;124m'\u001b[39m\u001b[38;5;124mutf-8\u001b[39m\u001b[38;5;124m'\u001b[39m)\n\u001b[0;32m----> 6\u001b[0m data \u001b[38;5;241m=\u001b[39m fp\u001b[38;5;241m.\u001b[39mread()\u001b[38;5;241m.\u001b[39msplit(\u001b[38;5;124m'\u001b[39m\u001b[38;5;130;01m\\n\u001b[39;00m\u001b[38;5;124m'\u001b[39m)\u001b[38;5;241m.\u001b[39msplit()\n\u001b[1;32m      7\u001b[0m \u001b[38;5;28mprint\u001b[39m(data)\n\u001b[1;32m      8\u001b[0m fp\u001b[38;5;241m.\u001b[39mclose()\n",
      "\u001b[0;31mAttributeError\u001b[0m: 'list' object has no attribute 'split'"
     ]
    }
   ],
   "source": [
    "fp = open('test.txt', 'wt', encoding='utf-8')\n",
    "fp.write('test\\n')\n",
    "fp.write('second line')\n",
    "fp.close()\n",
    "fp = open('test.txt', 'rt', encoding='utf-8')\n",
    "data = fp.read().split('\\n')\n",
    "print(data)\n",
    "fp.close()"
   ]
  },
  {
   "cell_type": "code",
   "execution_count": 11,
   "id": "fdb62aba-8fc1-4e63-9428-6bf79603f53b",
   "metadata": {},
   "outputs": [
    {
     "name": "stdout",
     "output_type": "stream",
     "text": [
      "[1]\n"
     ]
    }
   ],
   "source": [
    "a = [1,2]\n",
    "print(a[:1])"
   ]
  },
  {
   "cell_type": "code",
   "execution_count": 19,
   "id": "aab6e5db-5551-4b48-bc68-533ff9918071",
   "metadata": {},
   "outputs": [
    {
     "name": "stdout",
     "output_type": "stream",
     "text": [
      "         구종  사용 비율\n",
      "0  Fastball  45.3%\n",
      "1    Slider  23.1%\n",
      "2     Curve  12.5%\n",
      "3  Changeup  19.1%\n",
      "+----------+-------------+\n",
      "| 구종     | 사용 비율   |\n",
      "+==========+=============+\n",
      "| Fastball | 45.3%       |\n",
      "+----------+-------------+\n",
      "| Slider   | 23.1%       |\n",
      "+----------+-------------+\n",
      "| Curve    | 12.5%       |\n",
      "+----------+-------------+\n",
      "| Changeup | 19.1%       |\n",
      "+----------+-------------+\n"
     ]
    }
   ],
   "source": [
    "import pandas as pd\n",
    "from tabulate import tabulate\n",
    "\n",
    "pitchingInfo = {\n",
    "    'Fastball': '45.3%',\n",
    "    'Slider': '23.1%',\n",
    "    'Curve': '12.5%',\n",
    "    'Changeup': '19.1%'\n",
    "}\n",
    "df = pd.DataFrame(list(pitchingInfo.items()), columns=['구종', '사용 비율'])\n",
    "print(df)\n",
    "\n",
    "table = list(pitchingInfo.items())\n",
    "print(tabulate(table, headers=['구종', '사용 비율'], tablefmt='grid'))"
   ]
  },
  {
   "cell_type": "code",
   "execution_count": null,
   "id": "5e0c136d-cc0a-400d-9aaa-16c64424f6b7",
   "metadata": {},
   "outputs": [],
   "source": []
  }
 ],
 "metadata": {
  "kernelspec": {
   "display_name": "Python 3 (ipykernel)",
   "language": "python",
   "name": "python3"
  },
  "language_info": {
   "codemirror_mode": {
    "name": "ipython",
    "version": 3
   },
   "file_extension": ".py",
   "mimetype": "text/x-python",
   "name": "python",
   "nbconvert_exporter": "python",
   "pygments_lexer": "ipython3",
   "version": "3.12.7"
  }
 },
 "nbformat": 4,
 "nbformat_minor": 5
}
