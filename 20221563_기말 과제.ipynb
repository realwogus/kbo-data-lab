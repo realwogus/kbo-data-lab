{
 "cells": [
  {
   "cell_type": "markdown",
   "id": "0c48be18-9bbd-4383-bad3-8b80ef62b7e6",
   "metadata": {},
   "source": [
    "객체지향프로그래밍, file IO, 예외처리, 실행시간, 정규식, matplotlib, numpy, pandas등 library를 이용하여 구현\n",
    "\n",
    "투수와 타자 정보 데이터 작성\n",
    "\n",
    "[파일 내 형식]\n",
    "- 투수 (한 줄 당)\n",
    "    이름 구단 {구종 : 구사율} ERA AVG BB WHIP\n",
    "    구단 #(선수) // 이 밑으로는 선수 인원수에 맞게 줄이 쭉 있는데 각 줄에 선수에 대한 정보\n",
    "    \n",
    "- 타자\n",
    "\n",
    "  \n",
    "\n",
    "입력 :\n",
    "1. 투수의 이름,구단 입력 -> '이닝 시작' 출력 후 투수의 구종별 구사율 출력\n",
    "2. 타자의 정보 입력 -> 타자의 타율, 출루율, 변화구/직구 선택률 등 정보 출력 -> 투수의 첫 구종 예상\n",
    "3. trading start 입력 시 -> '1. 이적\\n2. 방출' 출력 후 선택 요구\n",
    "       1: 이적할 선수의 포지션, 이름, 등번호, 연봉 입력 요구 -> 이름은 다른데 등 번호가 겹칠 경우 '이미 등록된 번호입니다.' -> 이름과 등번호가 겹칠 경우 '이미 등록된 선수입니다.' 출력 ->'등록을 완료했습니다.' 출력\n",
    "       2: 방출할 선수의 포지션, 이름, 등번호 -> 있다면 '정말 방출하시겠습니까?' 출력 후 y 입력 시 방출"
   ]
  },
  {
   "cell_type": "code",
   "execution_count": 20,
   "id": "9567cfe4-4aaf-4243-b919-625b1114f83b",
   "metadata": {},
   "outputs": [
    {
     "name": "stdout",
     "output_type": "stream",
     "text": [
      "['최현우', '기아', 0.342, 65, 31, 33, 0.94, 190, 225]\n"
     ]
    }
   ],
   "source": [
    "import pandas as pd\n",
    "def get_data_from_sheet(position, name, team):\n",
    "        df = pd.read_excel(position + '.xlsx', engine='openpyxl')\n",
    "        filtered_df = df[(df['Name'] == name) & (df['Team'] == team)]\n",
    "        \n",
    "        list_data = filtered_df.iloc[0].tolist() #선수 정보 리스트로 출력하는 코드\n",
    "        return list_data\n",
    "\n",
    "print(get_data_from_sheet('hitter', '최현우', '기아'))"
   ]
  },
  {
   "cell_type": "code",
   "execution_count": 2,
   "id": "2263a6bd-2ba9-48bf-b7a3-dc3c635af926",
   "metadata": {},
   "outputs": [
    {
     "name": "stdout",
     "output_type": "stream",
     "text": [
      "{'직구': 52.3, '슬라이더': 27.1, '커브': 20.6}\n",
      "<class 'dict'>\n"
     ]
    }
   ],
   "source": [
    "#셀에 들어 있는 사전 형식을 읽고 사전 형식으로 만드는 코드\n",
    "\n",
    "import pandas as pd\n",
    "import ast\n",
    "\n",
    "df = pd.read_excel('pitcher.xlsx')\n",
    "dict_str = df.loc[0, '구종구사율']\n",
    "pitch_usage = ast.literal_eval(dict_str)\n",
    "print(pitch_usage)\n",
    "print(type(pitch_usage))"
   ]
  },
  {
   "cell_type": "code",
   "execution_count": 22,
   "id": "21bacdfa-05ee-4dc1-8e3f-2070f5697d4f",
   "metadata": {},
   "outputs": [
    {
     "name": "stdout",
     "output_type": "stream",
     "text": [
      "[MENU]\n",
      "1. 이닝 시작\n",
      "2. 트레이드\n"
     ]
    },
    {
     "name": "stdin",
     "output_type": "stream",
     "text": [
      "번호를 입력하세요:  1\n"
     ]
    },
    {
     "name": "stdout",
     "output_type": "stream",
     "text": [
      "\n",
      "[투수 정보 입력]\n"
     ]
    },
    {
     "name": "stdin",
     "output_type": "stream",
     "text": [
      "투수 이름:  곽빈\n",
      "투수 구단:  두산\n"
     ]
    },
    {
     "ename": "IndexError",
     "evalue": "single positional indexer is out-of-bounds",
     "output_type": "error",
     "traceback": [
      "\u001b[0;31m---------------------------------------------------------------------------\u001b[0m",
      "\u001b[0;31mIndexError\u001b[0m                                Traceback (most recent call last)",
      "Cell \u001b[0;32mIn[22], line 92\u001b[0m\n\u001b[1;32m     90\u001b[0m choice \u001b[38;5;241m=\u001b[39m ShowMenu\u001b[38;5;241m.\u001b[39mmain_menu()\n\u001b[1;32m     91\u001b[0m \u001b[38;5;28;01mif\u001b[39;00m choice \u001b[38;5;241m==\u001b[39m \u001b[38;5;241m1\u001b[39m:\n\u001b[0;32m---> 92\u001b[0m     pitcher \u001b[38;5;241m=\u001b[39m Pitcher()\n\u001b[1;32m     93\u001b[0m \u001b[38;5;66;03m#else 로 2를 입력받을 시 trade class 구현\u001b[39;00m\n\u001b[1;32m     95\u001b[0m \u001b[38;5;28;01mwhile\u001b[39;00m \u001b[38;5;28;01mTrue\u001b[39;00m:\n",
      "Cell \u001b[0;32mIn[22], line 67\u001b[0m, in \u001b[0;36mPitcher.__init__\u001b[0;34m(self)\u001b[0m\n\u001b[1;32m     65\u001b[0m \u001b[38;5;28mself\u001b[39m\u001b[38;5;241m.\u001b[39mname \u001b[38;5;241m=\u001b[39m \u001b[38;5;28minput\u001b[39m(\u001b[38;5;124m'\u001b[39m\u001b[38;5;124m투수 이름: \u001b[39m\u001b[38;5;124m'\u001b[39m)\n\u001b[1;32m     66\u001b[0m \u001b[38;5;28mself\u001b[39m\u001b[38;5;241m.\u001b[39mteam \u001b[38;5;241m=\u001b[39m \u001b[38;5;28minput\u001b[39m(\u001b[38;5;124m'\u001b[39m\u001b[38;5;124m투수 구단: \u001b[39m\u001b[38;5;124m'\u001b[39m)\n\u001b[0;32m---> 67\u001b[0m \u001b[38;5;28mself\u001b[39m\u001b[38;5;241m.\u001b[39minfo \u001b[38;5;241m=\u001b[39m \u001b[38;5;28msuper\u001b[39m()\u001b[38;5;241m.\u001b[39mget_data_from_sheet(\u001b[38;5;124m'\u001b[39m\u001b[38;5;124mpitcher\u001b[39m\u001b[38;5;124m'\u001b[39m, \u001b[38;5;28mself\u001b[39m\u001b[38;5;241m.\u001b[39mname, \u001b[38;5;28mself\u001b[39m\u001b[38;5;241m.\u001b[39mteam)\n\u001b[1;32m     68\u001b[0m \u001b[38;5;28mprint\u001b[39m(\u001b[38;5;28mself\u001b[39m\u001b[38;5;241m.\u001b[39minfo)\n",
      "Cell \u001b[0;32mIn[22], line 57\u001b[0m, in \u001b[0;36mGetList.get_data_from_sheet\u001b[0;34m(position, name, team)\u001b[0m\n\u001b[1;32m     54\u001b[0m df \u001b[38;5;241m=\u001b[39m pd\u001b[38;5;241m.\u001b[39mread_excel(position \u001b[38;5;241m+\u001b[39m \u001b[38;5;124m'\u001b[39m\u001b[38;5;124m.xlsx\u001b[39m\u001b[38;5;124m'\u001b[39m, engine\u001b[38;5;241m=\u001b[39m\u001b[38;5;124m'\u001b[39m\u001b[38;5;124mopenpyxl\u001b[39m\u001b[38;5;124m'\u001b[39m)\n\u001b[1;32m     55\u001b[0m filtered_df \u001b[38;5;241m=\u001b[39m df[(df[\u001b[38;5;124m'\u001b[39m\u001b[38;5;124mName\u001b[39m\u001b[38;5;124m'\u001b[39m] \u001b[38;5;241m==\u001b[39m name) \u001b[38;5;241m&\u001b[39m (df[\u001b[38;5;124m'\u001b[39m\u001b[38;5;124mTeam\u001b[39m\u001b[38;5;124m'\u001b[39m] \u001b[38;5;241m==\u001b[39m team)]\n\u001b[0;32m---> 57\u001b[0m list_data \u001b[38;5;241m=\u001b[39m filtered_df\u001b[38;5;241m.\u001b[39miloc[\u001b[38;5;241m0\u001b[39m]\u001b[38;5;241m.\u001b[39mtolist()\n\u001b[1;32m     58\u001b[0m \u001b[38;5;28;01mreturn\u001b[39;00m list_data\n",
      "File \u001b[0;32m/opt/anaconda3/lib/python3.12/site-packages/pandas/core/indexing.py:1191\u001b[0m, in \u001b[0;36m_LocationIndexer.__getitem__\u001b[0;34m(self, key)\u001b[0m\n\u001b[1;32m   1189\u001b[0m maybe_callable \u001b[38;5;241m=\u001b[39m com\u001b[38;5;241m.\u001b[39mapply_if_callable(key, \u001b[38;5;28mself\u001b[39m\u001b[38;5;241m.\u001b[39mobj)\n\u001b[1;32m   1190\u001b[0m maybe_callable \u001b[38;5;241m=\u001b[39m \u001b[38;5;28mself\u001b[39m\u001b[38;5;241m.\u001b[39m_check_deprecated_callable_usage(key, maybe_callable)\n\u001b[0;32m-> 1191\u001b[0m \u001b[38;5;28;01mreturn\u001b[39;00m \u001b[38;5;28mself\u001b[39m\u001b[38;5;241m.\u001b[39m_getitem_axis(maybe_callable, axis\u001b[38;5;241m=\u001b[39maxis)\n",
      "File \u001b[0;32m/opt/anaconda3/lib/python3.12/site-packages/pandas/core/indexing.py:1752\u001b[0m, in \u001b[0;36m_iLocIndexer._getitem_axis\u001b[0;34m(self, key, axis)\u001b[0m\n\u001b[1;32m   1749\u001b[0m     \u001b[38;5;28;01mraise\u001b[39;00m \u001b[38;5;167;01mTypeError\u001b[39;00m(\u001b[38;5;124m\"\u001b[39m\u001b[38;5;124mCannot index by location index with a non-integer key\u001b[39m\u001b[38;5;124m\"\u001b[39m)\n\u001b[1;32m   1751\u001b[0m \u001b[38;5;66;03m# validate the location\u001b[39;00m\n\u001b[0;32m-> 1752\u001b[0m \u001b[38;5;28mself\u001b[39m\u001b[38;5;241m.\u001b[39m_validate_integer(key, axis)\n\u001b[1;32m   1754\u001b[0m \u001b[38;5;28;01mreturn\u001b[39;00m \u001b[38;5;28mself\u001b[39m\u001b[38;5;241m.\u001b[39mobj\u001b[38;5;241m.\u001b[39m_ixs(key, axis\u001b[38;5;241m=\u001b[39maxis)\n",
      "File \u001b[0;32m/opt/anaconda3/lib/python3.12/site-packages/pandas/core/indexing.py:1685\u001b[0m, in \u001b[0;36m_iLocIndexer._validate_integer\u001b[0;34m(self, key, axis)\u001b[0m\n\u001b[1;32m   1683\u001b[0m len_axis \u001b[38;5;241m=\u001b[39m \u001b[38;5;28mlen\u001b[39m(\u001b[38;5;28mself\u001b[39m\u001b[38;5;241m.\u001b[39mobj\u001b[38;5;241m.\u001b[39m_get_axis(axis))\n\u001b[1;32m   1684\u001b[0m \u001b[38;5;28;01mif\u001b[39;00m key \u001b[38;5;241m>\u001b[39m\u001b[38;5;241m=\u001b[39m len_axis \u001b[38;5;129;01mor\u001b[39;00m key \u001b[38;5;241m<\u001b[39m \u001b[38;5;241m-\u001b[39mlen_axis:\n\u001b[0;32m-> 1685\u001b[0m     \u001b[38;5;28;01mraise\u001b[39;00m \u001b[38;5;167;01mIndexError\u001b[39;00m(\u001b[38;5;124m\"\u001b[39m\u001b[38;5;124msingle positional indexer is out-of-bounds\u001b[39m\u001b[38;5;124m\"\u001b[39m)\n",
      "\u001b[0;31mIndexError\u001b[0m: single positional indexer is out-of-bounds"
     ]
    }
   ],
   "source": [
    "from tabulate import tabulate\n",
    "import pandas as pd\n",
    "import ast\n",
    "\n",
    "\n",
    "#메뉴 출력 class\n",
    "class ShowMenu:\n",
    "    @staticmethod\n",
    "    def main_menu():\n",
    "        print('[MENU]\\n1. 이닝 시작\\n2. 트레이드')\n",
    "        while True:\n",
    "            try:\n",
    "                user_input = int(input('번호를 입력하세요: '))\n",
    "                if 1 <= user_input <= 2:\n",
    "                    return user_input\n",
    "                    break\n",
    "                else:\n",
    "                    print('메뉴에서 선택해주세요\\n')\n",
    "            except ValueError:\n",
    "                print('메뉴의 숫자를 입력해야 합니다\\n')\n",
    "\n",
    "    @staticmethod\n",
    "    def after_pitcher_menu():\n",
    "        print('\\n[MENU]\\n1. 투수 정보 출력\\n2. 타자 정보 입력\\n3. 투수 교체\\n4. 프로그램 종료')\n",
    "        while True:\n",
    "            try:\n",
    "                user_input = int(input('번호를 입력하세요: '))\n",
    "                if 1 <= user_input <= 4:\n",
    "                    return user_input\n",
    "                    break\n",
    "                else:\n",
    "                    print('메뉴에서 선택해주세요\\n')\n",
    "            except ValueError:\n",
    "                print('메뉴의 숫자를 입력해야 합니다\\n')\n",
    "\n",
    "    @staticmethod\n",
    "    def after_fielder_menu():\n",
    "        print('\\n[MENU]\\n1. 투수 정보 출력\\n2. 타자 정보 출력\\n3. 새로운 타자 정보 입력\\n4. 투수 교체\\n5. 프로그램 종료')\n",
    "        while True:\n",
    "            try:\n",
    "                user_input = int(input('번호를 입력하세요: '))\n",
    "                if 1 <= user_input <= 5:\n",
    "                    return user_input\n",
    "                    break\n",
    "                else:\n",
    "                    print('메뉴에서 선택해주세요\\n')\n",
    "            except ValueError:\n",
    "                print('메뉴의 숫자를 입력해야 합니다\\n')\n",
    "\n",
    "    \n",
    "class GetList:\n",
    "    @staticmethod\n",
    "    def get_data_from_sheet(position, name, team):\n",
    "        df = pd.read_excel(position + '.xlsx', engine='openpyxl')\n",
    "        filtered_df = df[(df['Name'] == name) & (df['Team'] == team)]\n",
    "        \n",
    "        list_data = filtered_df.iloc[0].tolist()\n",
    "        return list_data\n",
    "\n",
    "\n",
    "        \n",
    "class Pitcher(GetList):\n",
    "    def __init__(self):\n",
    "        print('\\n[투수 정보 입력]')\n",
    "        self.name = input('투수 이름: ')\n",
    "        self.team = input('투수 구단: ')\n",
    "        self.info = super().get_data_from_sheet('pitcher', self.name, self.team)\n",
    "\n",
    "class Fielder(GetList):\n",
    "    def __init__(self):\n",
    "        print('\\n[야수 정보 입력]')\n",
    "        self.name = input('야수 이름: ')\n",
    "        self.team = input('야수 구단: ')\n",
    "        self.info = super().get_data_from_sheet('fielder', self.name, self.team)\n",
    "\n",
    "\n",
    "\n",
    "#투수와 야수 정보 출력 class\n",
    "class ShowInfo(Fielder, Pitcher):\n",
    "    def show_fielder(self):\n",
    "        print(f'[{Fielder.name}의 정보입니다.]')\n",
    "        print(Fielder.info)\n",
    "        \n",
    "    def show_pitcher(self):\n",
    "        print(f'[{Fielder.name}의 정보입니다.]')\n",
    "        print(Fielder.info)\n",
    "\n",
    "if __name__ == \"__main__\":\n",
    "    choice = ShowMenu.main_menu()\n",
    "    if choice == 1:\n",
    "        pitcher = Pitcher()\n",
    "    #else 로 2를 입력받을 시 trade class 구현\n",
    "        \n",
    "    while True:\n",
    "        choice = ShowMenu.after_pitcher_menu()\n",
    "        if choice == 1:\n",
    "            print(pitcher.info)\n",
    "        elif choice == 2:\n",
    "            fielder = Fielder()\n",
    "            break\n",
    "        elif choice == 3:\n",
    "            temp = pitcher.info[0]\n",
    "            pitcher = Pitcher()\n",
    "            print(f'투수가 {temp}에서 {pitcher.info[0]}(으)로 교체되었습니다.')\n",
    "            break\n",
    "        else:\n",
    "            print('\\n프로그램을 종료합니다!')\n",
    "            break\n",
    "\n",
    "    while True:\n",
    "        choice = ShowMenu.after_fielder_menu()\n",
    "        if choice == 1:\n",
    "            print(pitcher.info)\n",
    "        elif choice == 2:\n",
    "            print(fielder.info)\n",
    "        elif choice == 3:\n",
    "            temp = fielder.info[0]\n",
    "            fielder = Fielder()\n",
    "            print(f'타자가 {temp}에서 {fielder.info[0]}(으)로 교체되었습니다.')\n",
    "        elif choice == 4:\n",
    "            temp = pitcher.info[0]\n",
    "            pitcher = Pitcher()\n",
    "            print(f'투수가 {temp}에서 {pitcher.info[0]}(으)로 교체되었습니다.')\n",
    "        else:\n",
    "            print('\\n프로그램을 종료합니다!')\n",
    "            break"
   ]
  },
  {
   "cell_type": "code",
   "execution_count": null,
   "id": "0b0d2c83-4ce4-41fe-a246-9e299b3a0531",
   "metadata": {},
   "outputs": [],
   "source": [
    "print('\\n[MENU]\\n1. 투수 정보 출력\\n2. 타자 정보 출력\\n3. 새로운 타자 정보 입력\\n4. 투수 교체\\n5. 프로그램 종료')"
   ]
  }
 ],
 "metadata": {
  "kernelspec": {
   "display_name": "Python 3 (ipykernel)",
   "language": "python",
   "name": "python3"
  },
  "language_info": {
   "codemirror_mode": {
    "name": "ipython",
    "version": 3
   },
   "file_extension": ".py",
   "mimetype": "text/x-python",
   "name": "python",
   "nbconvert_exporter": "python",
   "pygments_lexer": "ipython3",
   "version": "3.12.7"
  }
 },
 "nbformat": 4,
 "nbformat_minor": 5
}
