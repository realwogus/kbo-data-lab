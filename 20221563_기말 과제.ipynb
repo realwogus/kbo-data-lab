{
 "cells": [
  {
   "cell_type": "markdown",
   "id": "0c48be18-9bbd-4383-bad3-8b80ef62b7e6",
   "metadata": {},
   "source": [
    "객체지향프로그래밍, file IO, 예외처리, 실행시간, 정규식, matplotlib, numpy, pandas등 library를 이용하여 구현\n",
    "\n",
    "투수와 타자 정보 데이터 작성\n",
    "\n",
    "[파일 내 형식]\n",
    "- 투수 (한 줄 당)\n",
    "    이름 구단 {구종 : 구사율} ERA AVG BB WHIP\n",
    "    구단 #(선수) // 이 밑으로는 선수 인원수에 맞게 줄이 쭉 있는데 각 줄에 선수에 대한 정보\n",
    "    \n",
    "- 타자\n",
    "\n",
    "  \n",
    "\n",
    "입력 :\n",
    "1. 투수의 이름,구단 입력 -> '이닝 시작' 출력 후 투수의 구종별 구사율 출력\n",
    "2. 타자의 정보 입력 -> 타자의 타율, 출루율, 변화구/직구 선택률 등 정보 출력 -> 투수의 첫 구종 예상\n",
    "3. trading start 입력 시 -> '1. 이적\\n2. 방출' 출력 후 선택 요구\n",
    "       1: 이적할 선수의 포지션, 이름, 등번호, 연봉 입력 요구 -> 이름은 다른데 등 번호가 겹칠 경우 '이미 등록된 번호입니다.' -> 이름과 등번호가 겹칠 경우 '이미 등록된 선수입니다.' 출력 ->'등록을 완료했습니다.' 출력\n",
    "       2: 방출할 선수의 포지션, 이름, 등번호 -> 있다면 '정말 방출하시겠습니까?' 출력 후 y 입력 시 방출"
   ]
  },
  {
   "cell_type": "code",
   "execution_count": 20,
   "id": "9567cfe4-4aaf-4243-b919-625b1114f83b",
   "metadata": {},
   "outputs": [
    {
     "name": "stdout",
     "output_type": "stream",
     "text": [
      "['최현우', '기아', 0.342, 65, 31, 33, 0.94, 190, 225]\n"
     ]
    }
   ],
   "source": [
    "import pandas as pd\n",
    "def get_data_from_sheet(position, name, team):\n",
    "        df = pd.read_excel(position + '.xlsx', engine='openpyxl')\n",
    "        filtered_df = df[(df['Name'] == name) & (df['Team'] == team)]\n",
    "        \n",
    "        list_data = filtered_df.iloc[0].tolist() #선수 정보 리스트로 출력하는 코드\n",
    "        return list_data\n",
    "\n",
    "print(get_data_from_sheet('hitter', '최현우', '기아'))"
   ]
  },
  {
   "cell_type": "code",
   "execution_count": 2,
   "id": "2263a6bd-2ba9-48bf-b7a3-dc3c635af926",
   "metadata": {},
   "outputs": [
    {
     "name": "stdout",
     "output_type": "stream",
     "text": [
      "{'직구': 52.3, '슬라이더': 27.1, '커브': 20.6}\n",
      "<class 'dict'>\n"
     ]
    }
   ],
   "source": [
    "#셀에 들어 있는 사전 형식을 읽고 사전 형식으로 만드는 코드\n",
    "\n",
    "import pandas as pd\n",
    "import ast\n",
    "\n",
    "df = pd.read_excel('pitcher.xlsx')\n",
    "dict_str = df.loc[0, '구종구사율']\n",
    "pitch_usage = ast.literal_eval(dict_str)\n",
    "print(pitch_usage)\n",
    "print(type(pitch_usage))"
   ]
  },
  {
   "cell_type": "code",
   "execution_count": 25,
   "id": "21bacdfa-05ee-4dc1-8e3f-2070f5697d4f",
   "metadata": {},
   "outputs": [],
   "source": [
    "from tabulate import tabulate\n",
    "import pandas as pd\n",
    "import ast\n",
    "\n",
    "\n",
    "#메뉴 출력 class\n",
    "class ShowMenu:\n",
    "    def main_menu(self):\n",
    "        print('[MENU]\\n1. 이닝 시작\\n2. 트레이드')\n",
    "        while True:\n",
    "            try:\n",
    "                user_input = int(input('번호를 입력하세요: '))\n",
    "                if 1 <= user_input <= 2:\n",
    "                    return user_input\n",
    "                    break\n",
    "                else:\n",
    "                    print('메뉴에서 선택해주세요')\n",
    "            except ValueError:\n",
    "                print('메뉴의 숫자를 입력해야 합니다')\n",
    "                \n",
    "    def after_pitcher_menu(self):\n",
    "        print('[MENU]\\n1. 투수 정보 출력\\n2. 타자 정보 출력\\n3. 투수 교체\\n4. 프로그램 종료')\n",
    "        while True:\n",
    "            try:\n",
    "                user_input = int(input('번호를 입력하세요: '))\n",
    "                if 1 <= user_input <= 4:\n",
    "                    return user_input\n",
    "                    break\n",
    "                else:\n",
    "                    print('메뉴에서 선택해주세요')\n",
    "            except ValueError:\n",
    "                print('메뉴의 숫자를 입력해야 합니다')\n",
    "\n",
    "    def after_fielder_menu(self):\n",
    "        print('[MENU]\\n1. 투수 정보 출력\\n2. 타자 정보 출력\\n3. 새로운 타자 정보 입력\\n4. 투수 교체\\n5. 프로그램 종료')\n",
    "        while True:\n",
    "            try:\n",
    "                user_input = int(input('번호를 입력하세요: '))\n",
    "                if 1 <= user_input <= 5:\n",
    "                    return user_input\n",
    "                    break\n",
    "                else:\n",
    "                    print('메뉴에서 선택해주세요')\n",
    "            except ValueError:\n",
    "                print('메뉴의 숫자를 입력해야 합니다')\n",
    "\n",
    "    \n",
    "class GetList:\n",
    "    @staticmethod\n",
    "    def get_data_from_sheet(position, name, team):\n",
    "        df = pd.read_excel(position + '.xlsx', engine='openpyxl')\n",
    "        filtered_df = df[(df['Name'] == name) & (df['Team'] == team)]\n",
    "        \n",
    "        list_data = filtered_df.iloc[0].tolist()\n",
    "        return list_data\n",
    "\n",
    "\n",
    "        \n",
    "class Pitcher(GetList):\n",
    "    def __init__(self):\n",
    "        print('[투수 정보 입력]')\n",
    "        self.name = input('투수 이름: ')\n",
    "        self.team = input('투수 구단: ')\n",
    "\n",
    "    def pitcher_info(self):\n",
    "        self.info = get_data_from_sheet('pitcher', self.name, self.team)\n",
    "\n",
    "class Fielder(GetList):\n",
    "    def __init__(self):\n",
    "        print('[야수 정보 입력]')\n",
    "        self.name = input('야수 이름: ')\n",
    "        self.team = input('야수 구단: ')\n",
    "\n",
    "    def fielder_info(self):\n",
    "        self.info = GetList.get_data_from_sheet('fielder', self.name, self.team)\n",
    "\n",
    "\n",
    "\n",
    "#투수와 야수 정보 출력 class\n",
    "class ShowInfo(Fielder, Pitcher):\n",
    "    def show_fielder(self):\n",
    "        print(f'[{Fielder.name}의 정보입니다.]')\n",
    "        print(Fielder.info)\n",
    "        \n",
    "    def show_pitcher(self):\n",
    "        print(f'[{Fielder.name}의 정보입니다.]')\n",
    "        print(Fielder.info)"
   ]
  },
  {
   "cell_type": "markdown",
   "id": "b7ec4c26-aed1-4f8c-af51-cedffc9e3f89",
   "metadata": {},
   "source": [
    "git commit -m \"feat: class(ShowMenu, GetList, Player, ShowInfo) -m \"ShowMenu: print menu list at each steps.\\nGetList: get a player's data as a list\\nPitcher/Fielder: save player's info\\nShowInfo: print player's info saved in Player class.\""
   ]
  }
 ],
 "metadata": {
  "kernelspec": {
   "display_name": "Python 3 (ipykernel)",
   "language": "python",
   "name": "python3"
  },
  "language_info": {
   "codemirror_mode": {
    "name": "ipython",
    "version": 3
   },
   "file_extension": ".py",
   "mimetype": "text/x-python",
   "name": "python",
   "nbconvert_exporter": "python",
   "pygments_lexer": "ipython3",
   "version": "3.12.7"
  }
 },
 "nbformat": 4,
 "nbformat_minor": 5
}
